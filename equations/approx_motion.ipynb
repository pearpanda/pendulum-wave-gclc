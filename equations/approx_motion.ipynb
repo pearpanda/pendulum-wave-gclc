{
 "cells": [
  {
   "cell_type": "code",
   "execution_count": 86,
   "metadata": {},
   "outputs": [],
   "source": [
    "import sympy as sym\n",
    "import numpy as np\n",
    "\n",
    "from sympy import Symbol, Function, Eq\n",
    "from sympy import diff\n",
    "from sympy.abc import t, x, theta, omega, alpha\n",
    "\n",
    "from scipy.integrate import quad, solve_ivp"
   ]
  },
  {
   "cell_type": "code",
   "execution_count": 40,
   "metadata": {},
   "outputs": [],
   "source": [
    "from math import pi"
   ]
  },
  {
   "cell_type": "code",
   "execution_count": 42,
   "metadata": {},
   "outputs": [],
   "source": [
    "g = Symbol('g', positive=True)\n",
    "l = Symbol('l', positive=True)"
   ]
  },
  {
   "cell_type": "code",
   "execution_count": 66,
   "metadata": {},
   "outputs": [],
   "source": [
    "angle = Function('theta')\n",
    "velocity = diff(angle(t), t, 1)\n",
    "acceleration = diff(angle(t), t, 2)"
   ]
  },
  {
   "cell_type": "code",
   "execution_count": 90,
   "metadata": {},
   "outputs": [
    {
     "data": {
      "text/latex": [
       "$\\displaystyle \\frac{g \\sin{\\left(\\theta{\\left(t \\right)} \\right)}}{l} + \\frac{d^{2}}{d t^{2}} \\theta{\\left(t \\right)}$"
      ],
      "text/plain": [
       "g*sin(theta(t))/l + Derivative(theta(t), (t, 2))"
      ]
     },
     "execution_count": 90,
     "metadata": {},
     "output_type": "execute_result"
    }
   ],
   "source": [
    "equation = acceleration + (g / l) * sym.sin(angle(t))\n",
    "equation"
   ]
  },
  {
   "cell_type": "code",
   "execution_count": 93,
   "metadata": {},
   "outputs": [
    {
     "data": {
      "text/latex": [
       "$\\displaystyle \\alpha + \\frac{g \\sin{\\left(\\theta \\right)}}{l}$"
      ],
      "text/plain": [
       "alpha + g*sin(theta)/l"
      ]
     },
     "execution_count": 93,
     "metadata": {},
     "output_type": "execute_result"
    }
   ],
   "source": [
    "equation = equation.subs({ angle(t): theta, velocity: omega, acceleration: alpha })\n",
    "equation"
   ]
  },
  {
   "cell_type": "code",
   "execution_count": 96,
   "metadata": {},
   "outputs": [
    {
     "data": {
      "text/latex": [
       "$\\displaystyle - \\frac{g \\sin{\\left(\\theta \\right)}}{l}$"
      ],
      "text/plain": [
       "-g*sin(theta)/l"
      ]
     },
     "execution_count": 96,
     "metadata": {},
     "output_type": "execute_result"
    }
   ],
   "source": [
    "expression = sym.solve(equation, alpha)[0]\n",
    "expression"
   ]
  },
  {
   "cell_type": "code",
   "execution_count": 105,
   "metadata": {},
   "outputs": [],
   "source": [
    "ode_base = sym.lambdify([theta, omega, l, g], expression, modules=['scipy', 'numpy'])"
   ]
  },
  {
   "cell_type": "code",
   "execution_count": 106,
   "metadata": {},
   "outputs": [
    {
     "data": {
      "text/plain": [
       "-4.127415180482733"
      ]
     },
     "execution_count": 106,
     "metadata": {},
     "output_type": "execute_result"
    }
   ],
   "source": [
    "ode_base(1, 1, 2.0, 9.81)"
   ]
  },
  {
   "cell_type": "code",
   "execution_count": 136,
   "metadata": {},
   "outputs": [],
   "source": [
    "def ode(l: float):\n",
    "    g = 9.81\n",
    "    return lambda t, x: np.array([x[1], ode_base(x[0], x[1], l, g)])"
   ]
  },
  {
   "cell_type": "code",
   "execution_count": 138,
   "metadata": {},
   "outputs": [
    {
     "data": {
      "text/plain": [
       "array([ 1.        , -4.12741518])"
      ]
     },
     "execution_count": 138,
     "metadata": {},
     "output_type": "execute_result"
    }
   ],
   "source": [
    "ode(2.0)(0.0, [1.0, 1.0])"
   ]
  },
  {
   "cell_type": "code",
   "execution_count": 164,
   "metadata": {},
   "outputs": [],
   "source": [
    "def period(t0: float, l: float):\n",
    "    g = 9.81\n",
    "    I, _ = quad(lambda x: 1 / np.sqrt(np.cos(x) - np.cos(t0)), 0, t0)\n",
    "    return 4.0 * np.sqrt(l / (2 * g)) * I"
   ]
  },
  {
   "cell_type": "code",
   "execution_count": 175,
   "metadata": {},
   "outputs": [],
   "source": [
    "l = 2.0\n",
    "t0, o0 = 1.0, 0.0\n",
    "\n",
    "f = ode(l)\n",
    "t = np.linspace(0, period(t0, l) / 2, 200)"
   ]
  },
  {
   "cell_type": "code",
   "execution_count": 176,
   "metadata": {},
   "outputs": [],
   "source": [
    "sol = solve_ivp(f, t_span=[t[0], t[-1]], y0=[t0, o0], t_eval=t)"
   ]
  },
  {
   "cell_type": "code",
   "execution_count": 177,
   "metadata": {},
   "outputs": [
    {
     "data": {
      "text/plain": [
       "array([ 1.        ,  0.99988077,  0.9995231 ,  0.99892704,  0.99809272,\n",
       "        0.99702041,  0.99571024,  0.99416238,  0.992377  ,  0.99035435,\n",
       "        0.9880947 ,  0.98559838,  0.98286575,  0.97989723,  0.97669327,\n",
       "        0.97325439,  0.96958112,  0.96567405,  0.96153383,  0.95716113,\n",
       "        0.95255668,  0.94772125,  0.94265564,  0.93736073,  0.93183741,\n",
       "        0.92608662,  0.92010937,  0.91390669,  0.90747966,  0.90082941,\n",
       "        0.8939571 ,  0.88686395,  0.87955123,  0.87202022,  0.86427229,\n",
       "        0.85630883,  0.84813144,  0.83974221,  0.83114272,  0.82233453,\n",
       "        0.81331925,  0.80409857,  0.79467424,  0.78504806,  0.77522191,\n",
       "        0.76519772,  0.75497747,  0.74456322,  0.73395708,  0.72316124,\n",
       "        0.71217794,  0.70100946,  0.68965818,  0.67812651,  0.66641695,\n",
       "        0.65453203,  0.64247437,  0.63024663,  0.61785155,  0.60529193,\n",
       "        0.5925706 ,  0.57969049,  0.56665459,  0.55346591,  0.54012758,\n",
       "        0.52664274,  0.51301462,  0.49924652,  0.48534177,  0.47130378,\n",
       "        0.45713602,  0.44284203,  0.4284254 ,  0.41388978,  0.39923889,\n",
       "        0.38447651,  0.36960647,  0.35463269,  0.33955911,  0.32438977,\n",
       "        0.30912875,  0.29378019,  0.27834832,  0.26283739,  0.24725174,\n",
       "        0.23159576,  0.21587392,  0.20009072,  0.18425074,  0.16835862,\n",
       "        0.15241908,  0.13643686,  0.12041679,  0.10436377,  0.08828273,\n",
       "        0.07217869,  0.05605671,  0.03992194,  0.02377956,  0.00763484,\n",
       "       -0.00850723, -0.02464671, -0.04078055, -0.05690383, -0.07301169,\n",
       "       -0.08909929, -0.10516188, -0.12119474, -0.13719318, -0.15315258,\n",
       "       -0.16906838, -0.18493603, -0.20075107, -0.21650905, -0.23220561,\n",
       "       -0.2478364 , -0.26339714, -0.2788836 , -0.29429159, -0.30961696,\n",
       "       -0.32485563, -0.34000355, -0.35505674, -0.37001124, -0.38486316,\n",
       "       -0.39960866, -0.41424393, -0.42876522, -0.44316883, -0.45745111,\n",
       "       -0.47160845, -0.48563729, -0.49953413, -0.51329551, -0.52691802,\n",
       "       -0.54039829, -0.55373301, -0.56691892, -0.57995279, -0.59283147,\n",
       "       -0.60555183, -0.6181108 , -0.63050535, -0.64273252, -0.65478938,\n",
       "       -0.66667305, -0.6783807 , -0.68990955, -0.70125688, -0.71242   ,\n",
       "       -0.72339628, -0.73418312, -0.744778  , -0.75517842, -0.76538195,\n",
       "       -0.77538619, -0.78518881, -0.7947875 , -0.80418125, -0.81337099,\n",
       "       -0.82235506, -0.83113172, -0.83969929, -0.84805612, -0.85620063,\n",
       "       -0.86413128, -0.87184657, -0.87934506, -0.88662535, -0.89368609,\n",
       "       -0.900526  , -0.9071438 , -0.91353831, -0.91970836, -0.92565285,\n",
       "       -0.93137072, -0.93686096, -0.94212261, -0.94715476, -0.95195654,\n",
       "       -0.95652713, -0.96086577, -0.96497173, -0.96884435, -0.972483  ,\n",
       "       -0.9758871 , -0.97905613, -0.98198961, -0.98468711, -0.98714825,\n",
       "       -0.98937268, -0.99136014, -0.99311038, -0.99462321, -0.99589849,\n",
       "       -0.99693613, -0.99773609, -0.99829836, -0.99862301, -0.99871013])"
      ]
     },
     "execution_count": 177,
     "metadata": {},
     "output_type": "execute_result"
    }
   ],
   "source": [
    "sol.y[0]"
   ]
  },
  {
   "cell_type": "code",
   "execution_count": 156,
   "metadata": {},
   "outputs": [],
   "source": [
    "import matplotlib.pyplot as plt"
   ]
  },
  {
   "cell_type": "code",
   "execution_count": 178,
   "metadata": {},
   "outputs": [
    {
     "data": {
      "text/plain": [
       "[<matplotlib.lines.Line2D at 0x15c11e4d950>]"
      ]
     },
     "execution_count": 178,
     "metadata": {},
     "output_type": "execute_result"
    },
    {
     "data": {
      "image/png": "[encoded data removed]",
      "text/plain": [
       "<Figure size 640x480 with 1 Axes>"
      ]
     },
     "metadata": {},
     "output_type": "display_data"
    }
   ],
   "source": [
    "plt.plot(l * np.sin(sol.y[0]), -l * np.cos(sol.y[0]))"
   ]
  },
  {
   "cell_type": "code",
   "execution_count": null,
   "metadata": {},
   "outputs": [],
   "source": []
  }
 ],
 "metadata": {
  "kernelspec": {
   "display_name": "gclc",
   "language": "python",
   "name": "python3"
  },
  "language_info": {
   "codemirror_mode": {
    "name": "ipython",
    "version": 3
   },
   "file_extension": ".py",
   "mimetype": "text/x-python",
   "name": "python",
   "nbconvert_exporter": "python",
   "pygments_lexer": "ipython3",
   "version": "3.11.6"
  }
 },
 "nbformat": 4,
 "nbformat_minor": 2
}
